{
 "cells": [
  {
   "cell_type": "code",
   "execution_count": 14,
   "metadata": {},
   "outputs": [],
   "source": [
    "#1. The parameter weekday is True if it is a weekday, and the parameter \n",
    "# vacation is True if we are on vacation. We sleep in if it's not a weekday \n",
    "# or we're on vacation. Return true if we sleep in.\n",
    "\n",
    "def sleep_in(weekday,vacation):\n",
    "    if weekday == False or vacation == True:\n",
    "        return True\n",
    "    else:\n",
    "        return False"
   ]
  },
  {
   "cell_type": "code",
   "execution_count": null,
   "metadata": {},
   "outputs": [],
   "source": [
    "#2. Given a string and a non negative int n, return a larger string that \n",
    "# is n copies of the original string.\n",
    "\n",
    "# output = string_times(\"hi\",2) -- \"hihi\"\n",
    "# output = string_times(\"hi\",3) -- \"hihihi\""
   ]
  },
  {
   "cell_type": "code",
   "execution_count": 20,
   "metadata": {},
   "outputs": [
    {
     "data": {
      "text/plain": [
       "'HiHiHi'"
      ]
     },
     "execution_count": 20,
     "metadata": {},
     "output_type": "execute_result"
    }
   ],
   "source": [
    "def string_times(string,n):\n",
    "    return string*n\n",
    "\n",
    "\n",
    "string = \"Hi\"\n",
    "n=3\n",
    "string_times(string,n)\n",
    "    "
   ]
  },
  {
   "cell_type": "code",
   "execution_count": 27,
   "metadata": {},
   "outputs": [
    {
     "name": "stdout",
     "output_type": "stream",
     "text": [
      "Hello Coco!\n"
     ]
    }
   ],
   "source": [
    "#3. Given a string name, e.g. \"Bob\", return a greet of the form \"Hello, \n",
    "# Bob!\".\n",
    "#hello_name('Bob')--\"Hello Bob!\"\n",
    "\n",
    "def hello_name(name):\n",
    "    return \"Hello \" + name + \"!\"\n",
    "\n",
    "\n",
    "print(hello_name('Coco'))\n",
    "\n"
   ]
  },
  {
   "cell_type": "code",
   "execution_count": 36,
   "metadata": {},
   "outputs": [
    {
     "name": "stdout",
     "output_type": "stream",
     "text": [
      "True\n"
     ]
    }
   ],
   "source": [
    "#4. Given an array of ints, return True if 6 appears as either the first\n",
    "# or the last element in the array.\n",
    "\n",
    "def first_last6(nums):\n",
    "    if 6 == nums[0]:\n",
    "        return True\n",
    "    elif 6 == nums[-1]:\n",
    "        return True\n",
    "    else:\n",
    "        return False\n",
    "\n",
    "print(first_last6([6,2,3]))"
   ]
  },
  {
   "cell_type": "code",
   "execution_count": 43,
   "metadata": {},
   "outputs": [
    {
     "data": {
      "text/plain": [
       "'AABBCC'"
      ]
     },
     "execution_count": 43,
     "metadata": {},
     "output_type": "execute_result"
    }
   ],
   "source": [
    "#5. Given a string, return a string, where for every char in the original, \n",
    "# there are two chars.\n",
    "#output-- double_char('The')= 'Tthhee'\n",
    "\n",
    "def double_char(str):\n",
    "    to_return = \"\"\n",
    "    for c in str:\n",
    "        to_return += c*2\n",
    "    return to_return\n",
    "\n",
    "double_char(\"ABC\")"
   ]
  },
  {
   "cell_type": "code",
   "execution_count": 49,
   "metadata": {},
   "outputs": [
    {
     "data": {
      "text/plain": [
       "2"
      ]
     },
     "execution_count": 49,
     "metadata": {},
     "output_type": "execute_result"
    }
   ],
   "source": [
    "#6. Return the number of even int in the given array. Note the % 'Mod' operator\n",
    "# computes the remainder.\n",
    "#count_evens([1,2,3])\n",
    "\n",
    "def count_evens(lst):\n",
    "    count = 0\n",
    "    for n in lst:\n",
    "        if n % 2 == 0:\n",
    "            count+= 1\n",
    "    return count\n",
    "        \n",
    "count_evens([1,2,3,4])    "
   ]
  },
  {
   "cell_type": "code",
   "execution_count": null,
   "metadata": {},
   "outputs": [],
   "source": []
  }
 ],
 "metadata": {
  "kernelspec": {
   "display_name": "Python 3",
   "language": "python",
   "name": "python3"
  },
  "language_info": {
   "codemirror_mode": {
    "name": "ipython",
    "version": 3
   },
   "file_extension": ".py",
   "mimetype": "text/x-python",
   "name": "python",
   "nbconvert_exporter": "python",
   "pygments_lexer": "ipython3",
   "version": "3.7.3"
  }
 },
 "nbformat": 4,
 "nbformat_minor": 2
}
